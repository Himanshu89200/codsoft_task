{
 "cells": [
  {
   "cell_type": "code",
   "execution_count": null,
   "id": "e7e183a4-e9a4-48c6-b3d0-bf371023e20c",
   "metadata": {},
   "outputs": [
    {
     "name": "stdout",
     "output_type": "stream",
     "text": [
      "\n",
      "To-Do List Application\n",
      "=======================\n",
      "1. View Tasks\n",
      "2. Add Task\n",
      "3. Delete Task\n",
      "4. Mark Task as Completed\n",
      "5. Exit\n"
     ]
    },
    {
     "name": "stdin",
     "output_type": "stream",
     "text": [
      "Enter your choice:  1\n"
     ]
    },
    {
     "name": "stdout",
     "output_type": "stream",
     "text": [
      "\n",
      "Your To-Do List:\n",
      "No tasks found!\n",
      "\n",
      "To-Do List Application\n",
      "=======================\n",
      "1. View Tasks\n",
      "2. Add Task\n",
      "3. Delete Task\n",
      "4. Mark Task as Completed\n",
      "5. Exit\n"
     ]
    },
    {
     "name": "stdin",
     "output_type": "stream",
     "text": [
      "Enter your choice:  2\n",
      "Enter the task:  hello\n"
     ]
    },
    {
     "name": "stdout",
     "output_type": "stream",
     "text": [
      "Task 'hello' added successfully!\n",
      "\n",
      "To-Do List Application\n",
      "=======================\n",
      "1. View Tasks\n",
      "2. Add Task\n",
      "3. Delete Task\n",
      "4. Mark Task as Completed\n",
      "5. Exit\n"
     ]
    },
    {
     "name": "stdin",
     "output_type": "stream",
     "text": [
      "Enter your choice:  1\n"
     ]
    },
    {
     "name": "stdout",
     "output_type": "stream",
     "text": [
      "\n",
      "Your To-Do List:\n",
      "1. hello\n",
      "\n",
      "To-Do List Application\n",
      "=======================\n",
      "1. View Tasks\n",
      "2. Add Task\n",
      "3. Delete Task\n",
      "4. Mark Task as Completed\n",
      "5. Exit\n"
     ]
    }
   ],
   "source": [
    "def display_menu():\n",
    "    print(\"\\nTo-Do List Application\")\n",
    "    print(\"=======================\")\n",
    "    print(\"1. View Tasks\")\n",
    "    print(\"2. Add Task\")\n",
    "    print(\"3. Delete Task\")\n",
    "    print(\"4. Mark Task as Completed\")\n",
    "    print(\"5. Exit\")\n",
    "\n",
    "def view_tasks(tasks):\n",
    "    print(\"\\nYour To-Do List:\")\n",
    "    if not tasks:\n",
    "        print(\"No tasks found!\")\n",
    "    else:\n",
    "        for i, task in enumerate(tasks, start=1):\n",
    "            print(f\"{i}. {task}\")\n",
    "\n",
    "def add_task(tasks):\n",
    "    task = input(\"Enter the task: \").strip()\n",
    "    if task:\n",
    "        tasks.append(task)\n",
    "        print(f\"Task '{task}' added successfully!\")\n",
    "    else:\n",
    "        print(\"Task cannot be empty!\")\n",
    "\n",
    "def delete_task(tasks):\n",
    "    view_tasks(tasks)\n",
    "    if tasks:\n",
    "        try:\n",
    "            task_number = int(input(\"Enter the task number to delete: \"))\n",
    "            if 1 <= task_number <= len(tasks):\n",
    "                deleted_task = tasks.pop(task_number - 1)\n",
    "                print(f\"Task '{deleted_task}' deleted successfully!\")\n",
    "            else:\n",
    "                print(\"Invalid task number!\")\n",
    "        except ValueError:\n",
    "            print(\"Please enter a valid number.\")\n",
    "\n",
    "def mark_completed(tasks):\n",
    "    view_tasks(tasks)\n",
    "    if tasks:\n",
    "        try:\n",
    "            task_number = int(input(\"Enter the task number to mark as completed: \"))\n",
    "            if 1 <= task_number <= len(tasks):\n",
    "                tasks[task_number - 1] += \" (Completed)\"\n",
    "                print(f\"Task '{tasks[task_number - 1]}' marked as completed!\")\n",
    "            else:\n",
    "                print(\"Invalid task number!\")\n",
    "        except ValueError:\n",
    "            print(\"Please enter a valid number.\")\n",
    "\n",
    "def main():\n",
    "    tasks = []\n",
    "    while True:\n",
    "        display_menu()\n",
    "        choice = input(\"Enter your choice: \").strip()\n",
    "        if choice == \"1\":\n",
    "            view_tasks(tasks)\n",
    "        elif choice == \"2\":\n",
    "            add_task(tasks)\n",
    "        elif choice == \"3\":\n",
    "            delete_task(tasks)\n",
    "        elif choice == \"4\":\n",
    "            mark_completed(tasks)\n",
    "        elif choice == \"5\":\n",
    "            print(\"Exiting the application. Goodbye!\")\n",
    "            break\n",
    "        else:\n",
    "            print(\"Invalid choice! Please try again.\")\n",
    "\n",
    "if __name__ == \"__main__\":\n",
    "    main()\n"
   ]
  },
  {
   "cell_type": "code",
   "execution_count": null,
   "id": "5e158379-dbbf-4e35-8d8b-9f1be75b8a0e",
   "metadata": {},
   "outputs": [],
   "source": []
  },
  {
   "cell_type": "code",
   "execution_count": null,
   "id": "1c1061d2-aa0b-4c9e-84fe-b5fb73450e2c",
   "metadata": {},
   "outputs": [],
   "source": []
  }
 ],
 "metadata": {
  "kernelspec": {
   "display_name": "Python 3 (ipykernel)",
   "language": "python",
   "name": "python3"
  },
  "language_info": {
   "codemirror_mode": {
    "name": "ipython",
    "version": 3
   },
   "file_extension": ".py",
   "mimetype": "text/x-python",
   "name": "python",
   "nbconvert_exporter": "python",
   "pygments_lexer": "ipython3",
   "version": "3.12.4"
  }
 },
 "nbformat": 4,
 "nbformat_minor": 5
}
